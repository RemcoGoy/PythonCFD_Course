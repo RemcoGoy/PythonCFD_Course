{
 "cells": [
  {
   "cell_type": "markdown",
   "metadata": {},
   "source": [
    "# Step 0: Introduction of Computional Fluid Dynamics"
   ]
  },
  {
   "cell_type": "markdown",
   "metadata": {},
   "source": [
    "### Navier-Stokes Equation for Incompressible Flow\n"
   ]
  },
  {
   "cell_type": "markdown",
   "metadata": {},
   "source": [
    "##### Momentum Equation\n",
    "$$\\dfrac{\\partial u}{\\partial t} + u \\cdot \\nabla u = -\\dfrac{1}{\\rho} \\nabla p + \\nu \\nabla^2 u$$\n",
    "\n",
    "##### Continuity Equation\n",
    "\n",
    "$$ \\nabla \\cdot u = 0 $$\n",
    "\n",
    "Variables\n",
    "\n",
    "$$u = \\textrm{velocity field}$$\n",
    "$$t = \\textrm{time}$$\n",
    "$$\\rho = \\textrm{fluid density}$$\n",
    "$$p = \\textrm{pressure field}$$\n",
    "$$\\nu = \\textrm{kinematic viscosity}$$\n",
    "$$f = \\textrm{body forces (e.g. gravity)}$$\n",
    "$$\\nabla = \\textrm{gradient operator}$$\n",
    "$$\\nabla^2 = \\textrm{Laplacian operator}$$"
   ]
  }
 ],
 "metadata": {
  "kernelspec": {
   "display_name": "Python 3",
   "language": "python",
   "name": "python3"
  },
  "language_info": {
   "codemirror_mode": {
    "name": "ipython",
    "version": 3
   },
   "file_extension": ".py",
   "mimetype": "text/x-python",
   "name": "python",
   "nbconvert_exporter": "python",
   "pygments_lexer": "ipython3",
   "version": "3.9.12"
  }
 },
 "nbformat": 4,
 "nbformat_minor": 2
}
